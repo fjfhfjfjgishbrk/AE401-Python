{
 "cells": [
  {
   "cell_type": "code",
   "execution_count": null,
   "metadata": {},
   "outputs": [
    {
     "name": "stdout",
     "output_type": "stream",
     "text": [
      "pygame 1.9.6\n",
      "Hello from the pygame community. https://www.pygame.org/contribute.html\n"
     ]
    }
   ],
   "source": [
    "import pygame\n",
    "import random as ran\n",
    "import os\n",
    "\n",
    "w = 1080\n",
    "h = 640\n",
    "\n",
    "def makesnow(n):\n",
    "    retArray = []\n",
    "    for i in range(n):\n",
    "        retArray.append([ran.randint(0, w - 1), ran.randint(0, h), ran.randint(0, 255), ran.randint(0, 255), ran.randint(0, 255), ran.randint(3, 7)])\n",
    "    return retArray\n",
    "\n",
    "white = (255, 255, 255)\n",
    "pygame.init()\n",
    "size = (w, h)\n",
    "snow = makesnow(70)\n",
    "floorSnow = [0] * w\n",
    "for i in range(w):\n",
    "    floorSnow[i] = []\n",
    "screen = pygame.display.set_mode(size)\n",
    "clock = pygame.time.Clock()\n",
    "pygame.display.set_caption(\"snow\")\n",
    "\n",
    "\n",
    "def drawcircle(x, y, r, g, b):\n",
    "    pygame.draw.circle(screen, (r, g, b), (x, y), 4, 0)\n",
    "def drawrect(x, y, r, g, b):\n",
    "    pygame.draw.rect(screen, (r, g, b), [x - 2, y - 4, 4, 4], 0)\n",
    "def drawpoly(x, y):\n",
    "    pygame.draw.polygon(screen, (ran.randint(0, 255), ran.randint(0, 255), ran.randint(0, 255)), [pygame.Vector2(x, y), pygame.Vector2(x + 30, y), pygame.Vector2(x - 130, h), pygame.Vector2(x - 160, h)], 0)\n",
    "    if x - 160 > w:\n",
    "        return\n",
    "    drawpoly(x + 30, y)\n",
    "    \n",
    "\n",
    "run = True\n",
    "while run:\n",
    "    for event in pygame.event.get():\n",
    "        if event.type == pygame.QUIT:\n",
    "            run = False\n",
    "            \n",
    "    \n",
    "    drawpoly(0, 0)\n",
    "    for i in snow:\n",
    "        drawcircle(i[0], i[1], i[2], i[3], i[4])\n",
    "        i[1] += i[5]\n",
    "        if i[1] > h:\n",
    "            floorSnow[i[0]].append([i[2], i[3], i[4]])\n",
    "            snow.remove(i)\n",
    "            snow.append([ran.randint(0, w - 1), 0, ran.randint(0, 255), ran.randint(0, 255), ran.randint(0, 255), ran.randint(1, 10)])\n",
    "    for i in range(len(floorSnow)):\n",
    "        for j in range(len(floorSnow[i])):\n",
    "            drawrect(i + 1, h - j * 4, floorSnow[i][j][0], floorSnow[i][j][1], floorSnow[i][j][2])\n",
    "        if (ran.random() + 1) ** (len(floorSnow[i]) / 2) > 6:\n",
    "            floorSnow[i].remove(floorSnow[i][0])\n",
    "    \n",
    "    \n",
    "    clock.tick(20)\n",
    "    pygame.display.flip()\n",
    "\n",
    "    \n",
    "pygame.display.quit()\n",
    "pygame.quit()\n",
    "os._exit(0)\n",
    "    "
   ]
  },
  {
   "cell_type": "code",
   "execution_count": null,
   "metadata": {},
   "outputs": [],
   "source": []
  }
 ],
 "metadata": {
  "kernelspec": {
   "display_name": "Python 3",
   "language": "python",
   "name": "python3"
  },
  "language_info": {
   "codemirror_mode": {
    "name": "ipython",
    "version": 3
   },
   "file_extension": ".py",
   "mimetype": "text/x-python",
   "name": "python",
   "nbconvert_exporter": "python",
   "pygments_lexer": "ipython3",
   "version": "3.7.6"
  }
 },
 "nbformat": 4,
 "nbformat_minor": 4
}
