{
 "cells": [
  {
   "cell_type": "code",
   "execution_count": 4,
   "metadata": {},
   "outputs": [],
   "source": [
    "import pygame\n",
    "\n",
    "black = (0, 0, 0)\n",
    "white = (255, 255, 255)\n",
    "pygame.init()\n",
    "size = (700, 700)\n",
    "screen = pygame.display.set_mode(size)\n",
    "pygame.display.set_caption(\"my game\")\n",
    "\n",
    "run = True\n",
    "while run:\n",
    "    for event in pygame.event.get():\n",
    "        if event.type == pygame.QUIT:\n",
    "            run = False\n",
    "            \n",
    "    \n",
    "    screen.fill(white)       \n",
    "    pygame.draw.line(screen, black, (350, 0), (350, 700), 3)\n",
    "    pygame.draw.line(screen, black, (0, 350), (700, 350), 3)\n",
    "    pygame.draw.circle(screen, black, (450, 400), 1, 0)\n",
    "    pygame.display.flip()\n",
    "\n",
    "pygame.quit()"
   ]
  },
  {
   "cell_type": "code",
   "execution_count": null,
   "metadata": {},
   "outputs": [
    {
     "name": "stdout",
     "output_type": "stream",
     "text": [
      "pygame 1.9.6\n",
      "Hello from the pygame community. https://www.pygame.org/contribute.html\n"
     ]
    }
   ],
   "source": [
    "import pygame\n",
    "import random\n",
    "import os\n",
    "\n",
    "black = (0, 0, 0)\n",
    "white = (255, 255, 255)\n",
    "pygame.init()\n",
    "size = (540, 960)\n",
    "screen = pygame.display.set_mode(size)\n",
    "pygame.display.set_caption(\"my game\")\n",
    "\n",
    "def drawrect(x, y, l, w):\n",
    "    pygame.draw.rect(screen, (random.randint(0,255), random.randint(0,255), random.randint(0,255)), [x, y, l, w], 0)\n",
    "    if l < 6:\n",
    "        return\n",
    "    drawrect(x + 0.05*l, y + 0.05*w, l * 0.9, w * 0.9)\n",
    "\n",
    "run = True\n",
    "while run:\n",
    "    for event in pygame.event.get():\n",
    "        if event.type == pygame.QUIT:\n",
    "            run = False\n",
    "            \n",
    "    \n",
    "    screen.fill(white)\n",
    "    drawrect(0, 0, 540, 960)\n",
    "    pygame.display.flip()\n",
    "\n",
    "    \n",
    "pygame.display.quit()\n",
    "pygame.quit()\n",
    "os._exit(0)"
   ]
  },
  {
   "cell_type": "code",
   "execution_count": null,
   "metadata": {},
   "outputs": [],
   "source": []
  },
  {
   "cell_type": "code",
   "execution_count": null,
   "metadata": {},
   "outputs": [],
   "source": []
  }
 ],
 "metadata": {
  "kernelspec": {
   "display_name": "Python 3",
   "language": "python",
   "name": "python3"
  },
  "language_info": {
   "codemirror_mode": {
    "name": "ipython",
    "version": 3
   },
   "file_extension": ".py",
   "mimetype": "text/x-python",
   "name": "python",
   "nbconvert_exporter": "python",
   "pygments_lexer": "ipython3",
   "version": "3.7.6"
  }
 },
 "nbformat": 4,
 "nbformat_minor": 4
}
